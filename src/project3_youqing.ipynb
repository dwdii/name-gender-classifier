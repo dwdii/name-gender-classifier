{
 "cells": [
  {
   "cell_type": "code",
   "execution_count": 1,
   "metadata": {
    "collapsed": true
   },
   "outputs": [],
   "source": [
    "import nltk\n",
    "from nltk.corpus import names\n",
    "import random"
   ]
  },
  {
   "cell_type": "code",
   "execution_count": 2,
   "metadata": {
    "collapsed": false
   },
   "outputs": [],
   "source": [
    "class genderClassifier():\n",
    "    def __init__(self):\n",
    "        pass\n",
    "    \n",
    "    def get_Features(self,names):\n",
    "        features = {}\n",
    "        for name in names:\n",
    "            features['firstletter'] = name[0].lower()\n",
    "            features['lastletter'] = name[-1].lower()\n",
    "            features['lenghtofletter'] = len(name)\n",
    "\n",
    "        return features\n",
    "    \n",
    "    def train(self,train_set):\n",
    "        classifier = nltk.NaiveBayesClassifier.train(train_set)\n",
    "        return classifier\n",
    "    \n",
    "    def dev_test(self, classifier, devtest_set):\n",
    "        accuracy = nltk.classify.accuracy(classifier, devtest_set)\n",
    "        return accuracy\n",
    "    \n",
    "    def test(self, classifier, test_set):\n",
    "        accuracy = nltk.classify.accuracy(classifier, test_set)\n",
    "        return accuracy"
   ]
  },
  {
   "cell_type": "code",
   "execution_count": 3,
   "metadata": {
    "collapsed": false
   },
   "outputs": [],
   "source": [
    "# load data\n",
    "names = ([(name, 'male') for name in names.words('male.txt')] +\n",
    "         [(name, 'female') for name in names.words('female.txt')])\n",
    "random.shuffle(names)\n",
    "\n",
    "# split the data into three sets: train, devtest, test\n",
    "train_names = names[1000:]\n",
    "devtest_names = names[500:1000]\n",
    "test_names = names[:500]"
   ]
  },
  {
   "cell_type": "code",
   "execution_count": 4,
   "metadata": {
    "collapsed": false
   },
   "outputs": [],
   "source": [
    "genderclassifier = genderClassifier()"
   ]
  },
  {
   "cell_type": "code",
   "execution_count": 5,
   "metadata": {
    "collapsed": false
   },
   "outputs": [],
   "source": [
    "# get furtures\n",
    "train_set = [(genderclassifier.get_Features(n),g) for (n,g) in train_names]\n",
    "devtest_set = [(genderclassifier.get_Features(n),g) for (n,g) in devtest_names]\n",
    "test_set = [(genderclassifier.get_Features(n),g) for (n,g) in test_names]"
   ]
  },
  {
   "cell_type": "code",
   "execution_count": 6,
   "metadata": {
    "collapsed": true
   },
   "outputs": [],
   "source": [
    "# train\n",
    "classifier = genderclassifier.train(train_set)"
   ]
  },
  {
   "cell_type": "code",
   "execution_count": 7,
   "metadata": {
    "collapsed": false
   },
   "outputs": [],
   "source": [
    "# dev test\n",
    "dev_test_accuracy = genderclassifier.dev_test(classifier, devtest_set)"
   ]
  },
  {
   "cell_type": "code",
   "execution_count": 8,
   "metadata": {
    "collapsed": false
   },
   "outputs": [
    {
     "name": "stdout",
     "output_type": "stream",
     "text": [
      "Devtest Accuracy: 0.732000\n"
     ]
    }
   ],
   "source": [
    "classifier = genderclassifier.train(train_set)\n",
    "dev_test_accuracy = genderclassifier.dev_test(classifier, devtest_set)\n",
    "print 'Devtest Accuracy: %f'% dev_test_accuracy"
   ]
  },
  {
   "cell_type": "code",
   "execution_count": null,
   "metadata": {
    "collapsed": true
   },
   "outputs": [],
   "source": []
  }
 ],
 "metadata": {
  "anaconda-cloud": {},
  "kernelspec": {
   "display_name": "Python [Root]",
   "language": "python",
   "name": "Python [Root]"
  },
  "language_info": {
   "codemirror_mode": {
    "name": "ipython",
    "version": 2
   },
   "file_extension": ".py",
   "mimetype": "text/x-python",
   "name": "python",
   "nbconvert_exporter": "python",
   "pygments_lexer": "ipython2",
   "version": "2.7.12"
  }
 },
 "nbformat": 4,
 "nbformat_minor": 0
}
