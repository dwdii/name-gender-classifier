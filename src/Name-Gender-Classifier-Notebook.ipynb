{
 "cells": [
  {
   "cell_type": "markdown",
   "metadata": {},
   "source": [
    "# Name-Gender Classifier\n",
    "\n",
    "## Team\n",
    "* Daniel Dittenhafer\n",
    "* Youqing Xiang\n",
    "\n",
    "## Classifer Types\n",
    "\n",
    "* Naive Bayes\n",
    "* Decision Tree\n"
   ]
  },
  {
   "cell_type": "markdown",
   "metadata": {},
   "source": [
    "### Load Dependencies"
   ]
  },
  {
   "cell_type": "code",
   "execution_count": 2,
   "metadata": {
    "collapsed": true
   },
   "outputs": [],
   "source": [
    "import nltk\n",
    "from nltk.corpus import names\n",
    "import random"
   ]
  },
  {
   "cell_type": "markdown",
   "metadata": {},
   "source": [
    "### Naive Bayes Gender Classifier Wrapper Classs\n",
    "\n",
    "The following class defines a gender classifier using a Naive Bayes Classifier internally."
   ]
  },
  {
   "cell_type": "code",
   "execution_count": 41,
   "metadata": {
    "collapsed": false
   },
   "outputs": [],
   "source": [
    "class genderClassifier():\n",
    "    def __init__(self):\n",
    "        self.classifier = None\n",
    "        pass\n",
    "    \n",
    "    def get_Features(self,name):\n",
    "        features = {}\n",
    "        \n",
    "        features['prefix1'] = name[0].lower()\n",
    "        features['prefix2'] = name[0:2].lower()\n",
    "        features['prefix3'] = name[0:3].lower()\n",
    "        features['prefix4'] = name[0:4].lower()\n",
    "        #features['lastletter'] = name[-1].lower()\n",
    "        #features['lenghtofletter'] = len(name)\n",
    "        features['suffix1'] = name[-1:]\n",
    "        features['suffix2'] = name[-2:]\n",
    "        features['suffix3'] = name[-3:]\n",
    "        features['suffix4'] = name[-4:]\n",
    "        features['lastletter=vowel'] = name[-1] in ('a', 'e', 'i', 'o', 'u')\n",
    "\n",
    "        return features\n",
    "    \n",
    "    def train(self,train_set):\n",
    "        self.classifier = nltk.NaiveBayesClassifier.train(train_set)\n",
    "        return self.classifier\n",
    "    \n",
    "    def dev_test(self, devtest_set):\n",
    "        accuracy = nltk.classify.accuracy(self.classifier, devtest_set)\n",
    "        return accuracy\n",
    "    \n",
    "    def get_Errors(self, devtest_names):\n",
    "        errors = []\n",
    "        for (name, tag) in devtest_names:\n",
    "            guess = classifier.classify(self.get_Features(name))\n",
    "            if guess != tag:\n",
    "                errors.append((tag, guess, name))\n",
    "        return errors\n",
    "    \n",
    "    def test(self, test_set):\n",
    "        accuracy = nltk.classify.accuracy(self.classifier, test_set)\n",
    "        return accuracy\n",
    "    \n",
    "    def predict(self,raw_names):\n",
    "        results = []\n",
    "        for name in raw_names:\n",
    "            predict = classifier.classify(self.get_Features(name))\n",
    "            results.append((name, predict))\n",
    "        return results"
   ]
  },
  {
   "cell_type": "markdown",
   "metadata": {},
   "source": [
    "### Load NLTK Gender Data and Train the Model"
   ]
  },
  {
   "cell_type": "code",
   "execution_count": 42,
   "metadata": {
    "collapsed": false
   },
   "outputs": [],
   "source": [
    "# load data\n",
    "nameGenders = ([(name, 'male') for name in names.words('male.txt')] +\n",
    "         [(name, 'female') for name in names.words('female.txt')])\n",
    "random.shuffle(nameGenders)\n",
    "\n",
    "# split the data into three sets: train, devtest, test\n",
    "train_names = nameGenders[1000:]\n",
    "devtest_names = nameGenders[500:1000]\n",
    "test_names = nameGenders[:500]"
   ]
  },
  {
   "cell_type": "code",
   "execution_count": 43,
   "metadata": {
    "collapsed": true
   },
   "outputs": [],
   "source": [
    "genderclassifier = genderClassifier()"
   ]
  },
  {
   "cell_type": "code",
   "execution_count": 44,
   "metadata": {
    "collapsed": true
   },
   "outputs": [],
   "source": [
    "# get furtures\n",
    "train_set = [(genderclassifier.get_Features(n),g) for (n,g) in train_names]\n",
    "devtest_set = [(genderclassifier.get_Features(n),g) for (n,g) in devtest_names]\n",
    "test_set = [(genderclassifier.get_Features(n),g) for (n,g) in test_names]"
   ]
  },
  {
   "cell_type": "code",
   "execution_count": 45,
   "metadata": {
    "collapsed": false
   },
   "outputs": [
    {
     "data": {
      "text/plain": [
       "[({'lastletter=vowel': False,\n",
       "   'prefix1': u'k',\n",
       "   'prefix2': u'ki',\n",
       "   'prefix3': u'kir',\n",
       "   'prefix4': u'kirs',\n",
       "   'suffix1': u'n',\n",
       "   'suffix2': u'en',\n",
       "   'suffix3': u'ten',\n",
       "   'suffix4': u'sten'},\n",
       "  'female')]"
      ]
     },
     "execution_count": 45,
     "metadata": {},
     "output_type": "execute_result"
    }
   ],
   "source": [
    "# Show an example of the features\n",
    "train_set[:1]"
   ]
  },
  {
   "cell_type": "code",
   "execution_count": 46,
   "metadata": {
    "collapsed": true
   },
   "outputs": [],
   "source": [
    "# train\n",
    "classifier = genderclassifier.train(train_set)"
   ]
  },
  {
   "cell_type": "code",
   "execution_count": 47,
   "metadata": {
    "collapsed": false
   },
   "outputs": [
    {
     "name": "stdout",
     "output_type": "stream",
     "text": [
      "Devtest Accuracy: 0.842000\n"
     ]
    }
   ],
   "source": [
    "# dev test\n",
    "dev_test_accuracy = genderclassifier.dev_test(devtest_set)\n",
    "print 'Devtest Accuracy: %f'% dev_test_accuracy"
   ]
  },
  {
   "cell_type": "markdown",
   "metadata": {},
   "source": [
    "### Most Informative Features"
   ]
  },
  {
   "cell_type": "code",
   "execution_count": 48,
   "metadata": {
    "collapsed": false,
    "scrolled": true
   },
   "outputs": [
    {
     "name": "stdout",
     "output_type": "stream",
     "text": [
      "Most Informative Features\n",
      "                 suffix2 = u'na'          female : male   =     93.7 : 1.0\n",
      "                 suffix2 = u'la'          female : male   =     71.2 : 1.0\n",
      "                 suffix1 = u'k'             male : female =     40.6 : 1.0\n",
      "                 suffix2 = u'ld'            male : female =     38.4 : 1.0\n",
      "                 suffix2 = u'ia'          female : male   =     37.2 : 1.0\n",
      "                 suffix1 = u'a'           female : male   =     35.9 : 1.0\n",
      "                 suffix2 = u'ra'          female : male   =     33.1 : 1.0\n",
      "                 suffix2 = u'sa'          female : male   =     31.3 : 1.0\n",
      "                 suffix2 = u'ta'          female : male   =     30.9 : 1.0\n",
      "                 suffix2 = u'rd'            male : female =     28.9 : 1.0\n"
     ]
    }
   ],
   "source": [
    "classifier.show_most_informative_features()"
   ]
  },
  {
   "cell_type": "markdown",
   "metadata": {},
   "source": [
    "Show some of the errors:"
   ]
  },
  {
   "cell_type": "code",
   "execution_count": 49,
   "metadata": {
    "collapsed": false
   },
   "outputs": [],
   "source": [
    "errors = genderclassifier.get_Errors(devtest_names)"
   ]
  },
  {
   "cell_type": "code",
   "execution_count": 50,
   "metadata": {
    "collapsed": false
   },
   "outputs": [
    {
     "name": "stdout",
     "output_type": "stream",
     "text": [
      "correct=female   guess=male     names=Abagael                       \n",
      "correct=female   guess=male     names=Ajay                          \n",
      "correct=female   guess=male     names=Judy                          \n",
      "correct=female   guess=male     names=Kit                           \n",
      "correct=female   guess=male     names=Lark                          \n",
      "correct=female   guess=male     names=Marley                        \n",
      "correct=female   guess=male     names=Nitin                         \n",
      "correct=female   guess=male     names=Vicky                         \n",
      "correct=male     guess=female   names=Cam                           \n",
      "correct=male     guess=female   names=Niki                          \n"
     ]
    }
   ],
   "source": [
    "for (tag, guess, name) in sorted(errors[:10]): \n",
    "    print 'correct=%-8s guess=%-8s names=%-30s' % (tag, guess, name)"
   ]
  },
  {
   "cell_type": "markdown",
   "metadata": {},
   "source": [
    "### Decision Tree Classifier"
   ]
  },
  {
   "cell_type": "code",
   "execution_count": 51,
   "metadata": {
    "collapsed": true
   },
   "outputs": [],
   "source": [
    "class genderClassifierDT(genderClassifier):\n",
    "\n",
    "    def train(self,train_set):\n",
    "        \"\"\"Overrides the genderClassifier and specifies a DecisionTreeClassifier instead of the\n",
    "        NaiveBayesClassifer.\"\"\"\n",
    "        self.classifier = nltk.DecisionTreeClassifier.train(train_set)\n",
    "        return self.classifier\n"
   ]
  },
  {
   "cell_type": "code",
   "execution_count": 52,
   "metadata": {
    "collapsed": false
   },
   "outputs": [],
   "source": [
    "dtClassifier = genderClassifierDT()"
   ]
  },
  {
   "cell_type": "code",
   "execution_count": 53,
   "metadata": {
    "collapsed": true
   },
   "outputs": [],
   "source": [
    "classifier = dtClassifier.train(train_set)"
   ]
  },
  {
   "cell_type": "code",
   "execution_count": 54,
   "metadata": {
    "collapsed": false
   },
   "outputs": [
    {
     "name": "stdout",
     "output_type": "stream",
     "text": [
      "Devtest Accuracy: 0.684000\n"
     ]
    }
   ],
   "source": [
    "# dev test\n",
    "dt_dev_test_accuracy = dtClassifier.dev_test(devtest_set)\n",
    "print 'Devtest Accuracy: %f'% dt_dev_test_accuracy"
   ]
  },
  {
   "cell_type": "markdown",
   "metadata": {},
   "source": [
    "## Classifier Choice\n",
    "\n",
    "Based on the dev_test accuracy, the Naive Bayes classifer performs better."
   ]
  },
  {
   "cell_type": "code",
   "execution_count": 55,
   "metadata": {
    "collapsed": false
   },
   "outputs": [
    {
     "name": "stdout",
     "output_type": "stream",
     "text": [
      "DecisionTree    0.684                         \n",
      "NaiveBayes      0.842                         \n"
     ]
    }
   ],
   "source": [
    "results = [('NaiveBayes', dev_test_accuracy), ('DecisionTree', dt_dev_test_accuracy)]\n",
    "for (model, accuracy) in sorted(results): \n",
    "    print '%-15s %-30s' % (model, accuracy)"
   ]
  },
  {
   "cell_type": "markdown",
   "metadata": {},
   "source": [
    "Run the test_set through the selected classifer:"
   ]
  },
  {
   "cell_type": "code",
   "execution_count": 56,
   "metadata": {
    "collapsed": false
   },
   "outputs": [
    {
     "name": "stdout",
     "output_type": "stream",
     "text": [
      "Test Accuracy: 0.862000\n"
     ]
    }
   ],
   "source": [
    "# test\n",
    "test_accuracy = genderclassifier.dev_test(test_set)\n",
    "print 'Test Accuracy: %f'% test_accuracy"
   ]
  },
  {
   "cell_type": "markdown",
   "metadata": {},
   "source": [
    "In the current outcome of 0.86 test accuracy against the test_set, we are surprised that the classifier did better in the generalized case versus the dev_test set. This is likely due to coincidence in the random selection of name when split between sets."
   ]
  },
  {
   "cell_type": "markdown",
   "metadata": {
    "collapsed": true
   },
   "source": [
    "## Do some test with our class names"
   ]
  },
  {
   "cell_type": "markdown",
   "metadata": {},
   "source": [
    "For fun, we decided to use our class's names and run a cycle to see how well the trained classifier did. As you'll note below, the classifier did fairly well and achieved a 0.92 accuracy. "
   ]
  },
  {
   "cell_type": "code",
   "execution_count": 57,
   "metadata": {
    "collapsed": false
   },
   "outputs": [],
   "source": [
    "classNames = ['Jason','Maxwell','Honey','Lara','Brian','Thomas',\n",
    "        'Sandipayan','Neil','Justin','Burton','Frank','Jashan',\n",
    "        'Stacey','Igor','Daina','Mohan','Bryant','John','Erik',\n",
    "        'Robert','Youqing','Alexander','Daniel','Riguel','Alain']\n",
    "classNamesGender =  [('Jason', 'male'),\n",
    "                     ('Maxwell', 'male'),\n",
    "                     ('Honey', 'female'),\n",
    "                     ('Lara', 'female'),\n",
    "                     ('Brian', 'male'),\n",
    "                     ('Thomas', 'male'),\n",
    "                     ('Sandipayan', 'male'),\n",
    "                     ('Neil', 'male'),\n",
    "                     ('Justin', 'male'),\n",
    "                     ('Burton', 'male'),\n",
    "                     ('Frank', 'male'),\n",
    "                     ('Jashan', 'male'),\n",
    "                     ('Stacey', 'female'),\n",
    "                     ('Igor', 'male'),\n",
    "                     ('Daina', 'female'),\n",
    "                     ('Mohan', 'male'),\n",
    "                     ('Bryant', 'male'),\n",
    "                     ('John', 'male'),\n",
    "                     ('Erik', 'male'),\n",
    "                     ('Robert', 'male'),\n",
    "                     ('Youqing','female'),\n",
    "                     ('Alexander', 'male'),\n",
    "                     ('Daniel','male'),\n",
    "                     ('Riguel', 'male'),\n",
    "                     ('Alain', 'male')]\n",
    "class_set = [(genderclassifier.get_Features(n), g) for (n, g) in classNamesGender]"
   ]
  },
  {
   "cell_type": "code",
   "execution_count": 58,
   "metadata": {
    "collapsed": false
   },
   "outputs": [
    {
     "name": "stdout",
     "output_type": "stream",
     "text": [
      "('Jason', 'male')\n",
      "('Maxwell', 'male')\n",
      "('Honey', 'female')\n",
      "('Lara', 'female')\n",
      "('Brian', 'male')\n",
      "('Thomas', 'male')\n",
      "('Sandipayan', 'male')\n",
      "('Neil', 'male')\n",
      "('Justin', 'male')\n",
      "('Burton', 'male')\n",
      "('Frank', 'male')\n",
      "('Jashan', 'male')\n",
      "('Stacey', 'female')\n",
      "('Igor', 'male')\n",
      "('Daina', 'female')\n",
      "('Mohan', 'male')\n",
      "('Bryant', 'male')\n",
      "('John', 'male')\n",
      "('Erik', 'male')\n",
      "('Robert', 'male')\n",
      "('Youqing', 'male')\n",
      "('Alexander', 'male')\n",
      "('Daniel', 'male')\n",
      "('Riguel', 'male')\n",
      "('Alain', 'male')\n"
     ]
    }
   ],
   "source": [
    "# DATA 620 Class\n",
    "results = genderclassifier.predict(['Jason','Maxwell','Honey','Lara','Brian','Thomas',\n",
    "                                    'Sandipayan','Neil','Justin','Burton','Frank','Jashan',\n",
    "                                    'Stacey','Igor','Daina','Mohan','Bryant','John','Erik',\n",
    "                                    'Robert','Youqing','Alexander','Daniel','Riguel','Alain'])\n",
    "for result in results:\n",
    "    print result"
   ]
  },
  {
   "cell_type": "code",
   "execution_count": 60,
   "metadata": {
    "collapsed": false
   },
   "outputs": [
    {
     "data": {
      "text/plain": [
       "0.92"
      ]
     },
     "execution_count": 60,
     "metadata": {},
     "output_type": "execute_result"
    }
   ],
   "source": [
    "genderclassifier.dev_test(class_set)"
   ]
  },
  {
   "cell_type": "code",
   "execution_count": null,
   "metadata": {
    "collapsed": true
   },
   "outputs": [],
   "source": []
  }
 ],
 "metadata": {
  "anaconda-cloud": {},
  "kernelspec": {
   "display_name": "Python [Root]",
   "language": "python",
   "name": "Python [Root]"
  },
  "language_info": {
   "codemirror_mode": {
    "name": "ipython",
    "version": 2
   },
   "file_extension": ".py",
   "mimetype": "text/x-python",
   "name": "python",
   "nbconvert_exporter": "python",
   "pygments_lexer": "ipython2",
   "version": "2.7.12"
  }
 },
 "nbformat": 4,
 "nbformat_minor": 0
}
