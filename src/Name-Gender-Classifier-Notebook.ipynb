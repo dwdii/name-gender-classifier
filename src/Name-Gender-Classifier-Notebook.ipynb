{
 "cells": [
  {
   "cell_type": "markdown",
   "metadata": {},
   "source": [
    "# Name-Gender Classifier\n",
    "\n",
    "## Team\n",
    "* Daniel Dittenhafer\n",
    "* Youqing Xiang\n",
    "\n",
    "## Classifer Types\n",
    "\n",
    "* default tagger = always tag female?\n",
    "* regex tagger = 3 categories (Male, Female, Unknown) = rules based on endings (..a = female, o = male)\n",
    "* lookup tagger = Dictionary of pre-classified names which we can load?\n",
    "* unigram classifier = Similar to lookup tagger, but based on how probable the name is male/female (for example Evan is sometimes male, sometimes female).\n",
    "* n-gram classifier = not possible - due to names being a single word? Or should this take into account a prior word to given context to the name. \"he was good. Evan went home.\".\n"
   ]
  },
  {
   "cell_type": "code",
   "execution_count": 1,
   "metadata": {
    "collapsed": true
   },
   "outputs": [],
   "source": [
    "from nltk.corpus import names"
   ]
  },
  {
   "cell_type": "code",
   "execution_count": null,
   "metadata": {
    "collapsed": true
   },
   "outputs": [],
   "source": []
  }
 ],
 "metadata": {
  "kernelspec": {
   "display_name": "Python [Root]",
   "language": "python",
   "name": "Python [Root]"
  },
  "language_info": {
   "codemirror_mode": {
    "name": "ipython",
    "version": 2
   },
   "file_extension": ".py",
   "mimetype": "text/x-python",
   "name": "python",
   "nbconvert_exporter": "python",
   "pygments_lexer": "ipython2",
   "version": "2.7.12"
  }
 },
 "nbformat": 4,
 "nbformat_minor": 0
}
